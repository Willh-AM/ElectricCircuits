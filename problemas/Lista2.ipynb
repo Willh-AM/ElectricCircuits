{
 "cells": [
  {
   "cell_type": "markdown",
   "metadata": {},
   "source": [
    "<div align='center'>\n",
    "\n",
    "# Resolução da Lista 2\n",
    "### complemento e solução das equações\n",
    "---\n",
    "<small> William Henrique - 119111128 </small>\n",
    "---\n",
    "</div>"
   ]
  },
  {
   "cell_type": "markdown",
   "metadata": {},
   "source": [
    "<div align='center'>\n",
    "\n",
    "</div>"
   ]
  },
  {
   "cell_type": "code",
   "execution_count": 1,
   "metadata": {},
   "outputs": [],
   "source": [
    "from sympy import solve, Eq, symbols\n",
    "import numpy as np"
   ]
  },
  {
   "cell_type": "markdown",
   "metadata": {},
   "source": [
    "<div align='center'>\n",
    "\n",
    "# Utilizando o método das tensões de nós"
   ]
  },
  {
   "cell_type": "code",
   "execution_count": 2,
   "metadata": {},
   "outputs": [],
   "source": [
    "v1, v2, v3, v4 = symbols(\"v1 v2 v3 v4\")\n",
    "\n",
    "eq1 = Eq(30*v1 + 2*v2 - 3*v3 - 2*v4, 135)\n",
    "eq2 = Eq(25*v1 + 3*v4, 225)\n",
    "eq3 = Eq(9*v1 - 14*v2 + 5*v4, 0)\n",
    "eq4 = Eq(v3 - v4, 5)\n",
    "\n",
    "soluc = solve((eq1, eq2, eq3, eq4), dict=True)\n",
    "\n",
    "v1 = np.array([sol[v1] for sol in soluc])\n",
    "v2 = np.array([sol[v2] for sol in soluc]) \n",
    "v3 = np.array([sol[v3] for sol in soluc]) \n",
    "v4 = np.array([sol[v4] for sol in soluc])\n",
    "\n",
    "\n"
   ]
  },
  {
   "cell_type": "code",
   "execution_count": 10,
   "metadata": {},
   "outputs": [
    {
     "name": "stdout",
     "output_type": "stream",
     "text": [
      "v1 =  7.036247334754798\n",
      "v2 =  10.367803837953092\n",
      "v3 =  21.36460554371002\n",
      "v4 =  16.36460554371002\n"
     ]
    }
   ],
   "source": [
    "print(\"v1 = \", float(v1))\n",
    "print(\"v2 = \", float(v2))\n",
    "print(\"v3 = \", float(v3))\n",
    "print(\"v4 = \", float(v4))"
   ]
  },
  {
   "cell_type": "markdown",
   "metadata": {},
   "source": [
    "Para as tensões Va, Vb e Vc"
   ]
  },
  {
   "cell_type": "code",
   "execution_count": 11,
   "metadata": {},
   "outputs": [
    {
     "name": "stdout",
     "output_type": "stream",
     "text": [
      "va = 7.036247334754798\n",
      "vb = -10.99680170575693\n",
      "vc = -14.328358208955224\n"
     ]
    }
   ],
   "source": [
    "va = float(v1)\n",
    "vb = float(v2 - v3)\n",
    "vc = float(v1 - v3)\n",
    "print(\"va = {}\\nvb = {}\\nvc = {}\".format(va, vb, vc))"
   ]
  },
  {
   "cell_type": "markdown",
   "metadata": {},
   "source": [
    "<div align='center'>\n",
    "\n",
    "# Pelo método das correntes de malha"
   ]
  },
  {
   "cell_type": "code",
   "execution_count": 2,
   "metadata": {},
   "outputs": [
    {
     "name": "stdout",
     "output_type": "stream",
     "text": [
      "Solução do sistema:\n",
      "\n",
      " i1 = 3.98 A,\n",
      " i2 = 1.64 A,\n",
      " i3 = 2.30 A,\n",
      " i4 = -2.39 A,\n",
      " i_sigma = -0.67 A, \n",
      " i_delta = 2.35 A.\n"
     ]
    }
   ],
   "source": [
    "i1, i2, i3, i4 = symbols(\"i1, i2, i3, i4\")\n",
    "\n",
    "eq1 = Eq(2*i1 + 3*(i1-i2), 15)\n",
    "eq2 = Eq(10*i2-3*(i1-i2)+5*(i2-i3)+9*(i2-i3), 0)\n",
    "eq3 = Eq(-9*(i2-i3)-5*(i2-i3) +6*i4 + 5, 0)\n",
    "eq4 = Eq(2*i1-2*i2-i3+i4, 0)\n",
    "\n",
    "soluc = solve((eq1, eq2, eq3, eq4), dict=True)\n",
    "\n",
    "i1 = np.array([sol[i1] for sol in soluc])\n",
    "i2 = np.array([sol[i2] for sol in soluc]) \n",
    "i3 = np.array([sol[i3] for sol in soluc]) \n",
    "i4 = np.array([sol[i4] for sol in soluc])\n",
    "i_sigma = i2 - i3\n",
    "i_delta = i1 - i2\n",
    "\n",
    "\n",
    "print('Solução do sistema:\\n\\n i1 = %.2f A,\\n i2 = %.2f A,\\n i3 = %.2f A,\\n i4 = %.2f A,\\n i_sigma = %.2f A, \\n i_delta = %.2f A.' %(i1, i2, i3, i4, i_sigma, i_delta))"
   ]
  },
  {
   "cell_type": "markdown",
   "metadata": {},
   "source": [
    "Aplicando L.K.T podemos encontrar va, vb e bc"
   ]
  },
  {
   "cell_type": "code",
   "execution_count": 5,
   "metadata": {},
   "outputs": [
    {
     "name": "stdout",
     "output_type": "stream",
     "text": [
      "Solução das tensões: \n",
      "\n",
      " va = 7.04 V,\n",
      " vb = -11.00 V,\n",
      " vc = -14.33 V.\n"
     ]
    }
   ],
   "source": [
    "va = 15 - 2*i1\n",
    "vb = 9*i_sigma - 5\n",
    "vc = 6*i4\n",
    "\n",
    "print('Solução das tensões: \\n\\n va = %.2f V,\\n vb = %.2f V,\\n vc = %.2f V.'%(va, vb, vc))"
   ]
  },
  {
   "cell_type": "code",
   "execution_count": 7,
   "metadata": {},
   "outputs": [
    {
     "name": "stdout",
     "output_type": "stream",
     "text": [
      "Potências nos resistores: \n",
      "\n",
      "p2 = 31.71 W,\n",
      "p3 = 16.50 W,\n",
      "p6 = 34.22 V,\n",
      "p9 = 3.55 W,\n",
      "p10 = 26.78 W.\n"
     ]
    }
   ],
   "source": [
    "p2 = 2*i1**2\n",
    "p3 = va * i_delta\n",
    "p6 = vc * i4\n",
    "p9 = 8 *i_sigma**2\n",
    "p10 = 10 * i2**2\n",
    "print('Potências nos resistores: \\n\\np2 = %.2f W,\\np3 = %.2f W,\\np6 = %.2f V,\\np9 = %.2f W,\\np10 = %.2f W.'%(p2, p3, p6, p9, p10))"
   ]
  },
  {
   "cell_type": "code",
   "execution_count": 8,
   "metadata": {},
   "outputs": [
    {
     "name": "stdout",
     "output_type": "stream",
     "text": [
      "pR =  112.76237605757385\n",
      "p15v =  -59.72814498933902\n",
      "psigma =  -13.407916630675437\n",
      "pdelta =  -51.584144461972805\n",
      "p5v =  11.513859275053305\n",
      "Somátorio das potências -0.4439707493601138\n"
     ]
    }
   ],
   "source": [
    "pR = p2 + p3 + p6 + p9 + p10\n",
    "print(\"pR = \", float(pR))\n",
    "p5v = 5*i3\n",
    "p15v = -15*i1\n",
    "psigma = 5*i_sigma * (i2 - i4)\n",
    "pdelta = vb * (2*i_delta)\n",
    "\n",
    "print(\"p15v = \", float(p15v))\n",
    "print(\"psigma = \", float(psigma))\n",
    "print(\"pdelta = \", float(pdelta))\n",
    "print(\"p5v = \", float(p5v))\n",
    "\n",
    "print(\"Somátorio das potências\", float(pR + p5v + p15v + pdelta + psigma))\n"
   ]
  }
 ],
 "metadata": {
  "interpreter": {
   "hash": "c7523fd8d09c71f17f6ca6e6e337e75babedc6db0625410a20b32a0fd223770e"
  },
  "kernelspec": {
   "display_name": "Python 3.7.7 64-bit",
   "language": "python",
   "name": "python3"
  },
  "language_info": {
   "codemirror_mode": {
    "name": "ipython",
    "version": 3
   },
   "file_extension": ".py",
   "mimetype": "text/x-python",
   "name": "python",
   "nbconvert_exporter": "python",
   "pygments_lexer": "ipython3",
   "version": "3.7.7"
  },
  "orig_nbformat": 4
 },
 "nbformat": 4,
 "nbformat_minor": 2
}
