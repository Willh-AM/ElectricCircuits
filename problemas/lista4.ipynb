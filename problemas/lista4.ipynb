{
 "cells": [
  {
   "cell_type": "markdown",
   "metadata": {},
   "source": [
    "<div align='center'>\n",
    "\n",
    "# Resolução da Lista 4\n",
    "### complemento, calculos e solução das equações\n",
    "---\n",
    "<small> \n",
    "    William Henrique - 119111128 \n",
    "\n",
    "    22 de fevereiro de 2022\n",
    "</small>\n",
    "\n",
    "---\n",
    "</div>"
   ]
  },
  {
   "cell_type": "code",
   "execution_count": 46,
   "metadata": {},
   "outputs": [],
   "source": [
    "from sympy import Eq, symbols, solve, E, limit, oo, linsolve, diff, integrate"
   ]
  },
  {
   "cell_type": "code",
   "execution_count": 2,
   "metadata": {},
   "outputs": [],
   "source": [
    "# Matrícula\n",
    "R1 = 1 + 1\n",
    "R2 = 1 + 2\n",
    "R3 = 1 + 9"
   ]
  },
  {
   "cell_type": "markdown",
   "metadata": {},
   "source": [
    "# Questão 1"
   ]
  },
  {
   "cell_type": "markdown",
   "metadata": {},
   "source": [
    "## Letra C"
   ]
  },
  {
   "cell_type": "code",
   "execution_count": 3,
   "metadata": {},
   "outputs": [
    {
     "name": "stdout",
     "output_type": "stream",
     "text": [
      "i_a = 0.250000000000000 A\n",
      "i_b = 0.480769230769231 A\n",
      "i_c = 0.567307692307692 A\n",
      "Vth =  2.13461538461538 V\n"
     ]
    }
   ],
   "source": [
    "ia, ib, ic = symbols(\"i_a, i_b, i_c\")\n",
    "\n",
    "eq1 = Eq(ia, 0.25)\n",
    "eq2 = Eq(-2 + R1*ic + R3*(ic-ib), 0)\n",
    "eq3 = Eq(-R3*(ic-ib) - R2*(0.25-ib) + R1*(ic-ib), 0)\n",
    "\n",
    "soluc = solve((eq1, eq2, eq3)) # resolve o sistema\n",
    "ia, ib, ic = [soluc[sol] for sol in soluc] # obtêm as variáveis\n",
    "\n",
    "for sol in soluc:\n",
    "    print(sol, '=', soluc[sol], 'A')\n",
    "\n",
    "Vth = 1 + 2*ic # calcula Vth\n",
    "print(\"Vth = \", Vth, \"V\")"
   ]
  },
  {
   "cell_type": "code",
   "execution_count": 19,
   "metadata": {},
   "outputs": [
    {
     "name": "stdout",
     "output_type": "stream",
     "text": [
      "i_a = 0.250000000000000 A\n",
      "i_b = 1.05000000000000 A\n",
      "i_c = 1.35000000000000 A\n",
      "i_d = 1.85000000000000 A\n",
      "icc = 1.85000000000000 A\n",
      "Rth = 1.15384615384615 R\n"
     ]
    }
   ],
   "source": [
    "ia, ib, ic, id = symbols(\"i_a, i_b, i_c, i_d\")\n",
    "\n",
    "eq1 = Eq(ia, 0.25)\n",
    "eq2 = Eq(-2 + R1*(ic-id) + R3*(ic-ib), 0)\n",
    "eq3 = Eq(-R3*(ic-ib) - R2*(0.25-ib) + R1*(ic-ib), 0)\n",
    "eq4 = Eq(-R1*(ic-id), 1)\n",
    "\n",
    "soluc = solve((eq1, eq2, eq3, eq4))\n",
    "for sol in soluc:\n",
    "    print(sol, '=', soluc[sol], 'A')\n",
    "\n",
    "_, _, _, icc  = [soluc[sol] for sol in soluc] # obtem Icc\n",
    "Rth = Vth / icc # calcula Rth\n",
    "print(\"icc\", \"=\", icc, \"A\")\n",
    "print(\"Rth\", \"=\", Rth, \"R\")\n"
   ]
  },
  {
   "cell_type": "code",
   "execution_count": 6,
   "metadata": {},
   "outputs": [
    {
     "name": "stdout",
     "output_type": "stream",
     "text": [
      "il(t) =  1.85 - 1.35*exp(-32.967032967033*t)\n"
     ]
    }
   ],
   "source": [
    "t = symbols(\"t\")\n",
    "tau = 35e-3 / Rth\n",
    "\n",
    "# A corrente que atravessa os indutores é a mesma Il1 = Il2 = Ileq\n",
    "il = Vth/Rth + (0.5 - Vth/Rth)*E**(-t/tau)\n",
    "print(\"il(t) = \",il)"
   ]
  },
  {
   "cell_type": "code",
   "execution_count": 17,
   "metadata": {},
   "outputs": [
    {
     "name": "stdout",
     "output_type": "stream",
     "text": [
      "tau =  0.0303333333333333\n",
      "Vl1(t) =  0.667582417582418*exp(-32.967032967033*t)\n",
      "Vl2(t) =  0.89010989010989*exp(-32.967032967033*t)\n"
     ]
    }
   ],
   "source": [
    "vl1 = (15*1e-3)*diff(il)\n",
    "vl2 = (20*1e-3)*diff(il)\n",
    "print(\"tau = \", tau)\n",
    "print(\"Vl1(t) = \", vl1)\n",
    "print(\"Vl2(t) = \", vl2)"
   ]
  },
  {
   "cell_type": "markdown",
   "metadata": {},
   "source": [
    "## Letra D\n",
    "\n",
    "Resolvendo o sistemas de equações, considerando $i_d(t) = i_{Leq}(t)$"
   ]
  },
  {
   "cell_type": "code",
   "execution_count": 18,
   "metadata": {},
   "outputs": [
    {
     "name": "stdout",
     "output_type": "stream",
     "text": [
      "i_a = 0.250000000000000 A\n",
      "i_b = 0.307692307692308*i_d + 0.480769230769231 A\n",
      "i_c = 0.423076923076923*i_d + 0.567307692307692 A\n",
      "ix(t) =  0.115384615384615*i_d + 0.0865384615384615\n",
      "ix(t) =  0.3 - 0.155769230769231*exp(-32.967032967033*t)\n"
     ]
    }
   ],
   "source": [
    "ia, ib, ic, id = symbols(\"i_a, i_b, i_c, i_d\")\n",
    "\n",
    "eq1 = Eq(ia, 0.25)\n",
    "eq2 = Eq(-2 + R1*(ic-id) + R3*(ic-ib), 0)\n",
    "eq3 = Eq(-R3*(ic-ib) - R2*(0.25-ib) + R1*(ic-ib), 0)\n",
    "\n",
    "soluc = solve((eq1, eq2, eq3))\n",
    "for sol in soluc:\n",
    "    print(sol, '=', soluc[sol], 'A')\n",
    "\n",
    "ia, ib, ic = [soluc[sol] for sol in soluc]\n",
    "\n",
    "ix = (ic - ib)\n",
    "print(\"ix(t) = \", ix)\n",
    "print(\"ix(t) = \", ix.subs({id: il}))"
   ]
  },
  {
   "cell_type": "code",
   "execution_count": 24,
   "metadata": {},
   "outputs": [
    {
     "data": {
      "text/latex": [
       "$\\displaystyle 11 i_{b} - 8 i_{c} - 0.75 = 0$"
      ],
      "text/plain": [
       "Eq(11*i_b - 8*i_c - 0.75, 0)"
      ]
     },
     "execution_count": 24,
     "metadata": {},
     "output_type": "execute_result"
    }
   ],
   "source": [
    "eq3"
   ]
  },
  {
   "cell_type": "markdown",
   "metadata": {},
   "source": [
    "## Letra E"
   ]
  },
  {
   "cell_type": "code",
   "execution_count": 35,
   "metadata": {},
   "outputs": [
    {
     "name": "stdout",
     "output_type": "stream",
     "text": [
      "i(oo) =  1.85000000000000\n",
      "w(oo) =  59.8937500000000 mJ\n"
     ]
    }
   ],
   "source": [
    "il_final = limit(il, t, oo)\n",
    "print(\"i(oo) = \", il_final)\n",
    "print(\"w(oo) = \", 0.5*35e-3*il_final**2 *1e3, \"mJ\")"
   ]
  },
  {
   "cell_type": "markdown",
   "metadata": {},
   "source": [
    "# Questão 2"
   ]
  },
  {
   "cell_type": "markdown",
   "metadata": {},
   "source": [
    "## Letra A"
   ]
  },
  {
   "cell_type": "code",
   "execution_count": 54,
   "metadata": {},
   "outputs": [
    {
     "name": "stdout",
     "output_type": "stream",
     "text": [
      "il(t) =  -exp(-0.6*t) A\n",
      "il(1+) =  -0.548811636094026 A\n"
     ]
    }
   ],
   "source": [
    "t = symbols('t')\n",
    "R = 1 / (1/R1 + 1/R2)\n",
    "L = 2\n",
    "C = 1e-6\n",
    "tau = L/R\n",
    "Io = -1 # A\n",
    "il = Io*E**(-t/tau)\n",
    "il_t1 = il.subs({t: 1}) # t = 1+\n",
    "print('il(t) = ', il, 'A')\n",
    "print('il(1+) = ', il_t1, 'A')"
   ]
  },
  {
   "cell_type": "markdown",
   "metadata": {},
   "source": [
    "## Letra B"
   ]
  },
  {
   "cell_type": "code",
   "execution_count": 55,
   "metadata": {},
   "outputs": [
    {
     "name": "stdout",
     "output_type": "stream",
     "text": [
      "alpha =  416666.6666666666 rad/s\n",
      "omega =  707.1067811865476 rad/s\n",
      "S1 =  0.5999995680176653 rad/s\n",
      "S2 =  -0.6000004319939762 rad/s\n"
     ]
    }
   ],
   "source": [
    "alpha = 0.5/R/C\n",
    "omega = (L*C)**-.5\n",
    "S1 = -alpha + (alpha**2 - omega**2)**.5 # rever a equação\n",
    "S2 = -alpha - (alpha**2 - omega**2)**.5\n",
    "\n",
    "print('alpha = ', alpha, 'rad/s')\n",
    "print('omega = ', omega, 'rad/s')\n",
    "print('S1 = ', S1, 'rad/s')\n",
    "print('S2 = ', S2, 'rad/s')\n"
   ]
  },
  {
   "cell_type": "code",
   "execution_count": 57,
   "metadata": {},
   "outputs": [
    {
     "name": "stdout",
     "output_type": "stream",
     "text": [
      "Io =  -0.548811636094026 A\n",
      "Vo =  5 V\n",
      "a_1 -3014876.69211282\n",
      "a_2 3014881.69211282\n"
     ]
    }
   ],
   "source": [
    "a1, a2 = symbols(\"a_1, a_2\")\n",
    "\n",
    "Vo = 5              # Vo = 5 V\n",
    "Io = il_t1          # Io = I(t = 1) A\n",
    "print('Io = ', Io, 'A')\n",
    "print('Vo = ', Vo, 'V')\n",
    "\n",
    "eq1 = Eq(a1 + a2, Vo)                           \n",
    "eq2 = Eq(S1*a1 + S2*a2, 1/C*(-Vo/R - Io))    \n",
    "\n",
    "\n",
    "soluc = solve((eq1, eq2))\n",
    "for x in soluc:\n",
    "    print(x, soluc[x])\n",
    "a1, a2 = [soluc[x] for x in soluc]"
   ]
  },
  {
   "cell_type": "code",
   "execution_count": 59,
   "metadata": {},
   "outputs": [
    {
     "name": "stdout",
     "output_type": "stream",
     "text": [
      "V(t) =  -3014876.69211282*exp(0.599999568017665*t) + 3014881.69211282*exp(-0.600000431993976*t) V\n",
      "IL(t) =  -2512399.0522807*exp(0.599999568017665*t) + 5956720.56086932 - 2512399.60119153*exp(-0.600000431993976*t) A\n"
     ]
    }
   ],
   "source": [
    "Vt = a1*E**(S1*t) + a2*E**(S2*t) # tensão do RLC paralelo resposta natural\n",
    "print('V(t) = ', Vt, 'V')\n",
    "print(\"IL(t) = \", 1/L*integrate(Vt, (t, 1, t)) + Io, 'A')"
   ]
  },
  {
   "cell_type": "markdown",
   "metadata": {},
   "source": [
    "## Letra D - Parte 1"
   ]
  },
  {
   "cell_type": "code",
   "execution_count": 38,
   "metadata": {},
   "outputs": [
    {
     "name": "stdout",
     "output_type": "stream",
     "text": [
      "alpha =  166666.66666666666 rad/s\n",
      "omega =  707.1067811865476 rad/s\n",
      "S1 =  1.4999932500650175 rad/s\n",
      "S2 =  -1.5000067500513978 rad/s\n",
      "Io =  -1 A\n",
      "Vo =  5 V\n",
      "a1 0.333331083303265\n",
      "a2 -1.33333108330326\n",
      "Il(t) =  0.333331083303265*exp(1.49999325006502*t) - 1 - 1.33333108330326*exp(-1.5000067500514*t) A\n",
      "Vl(t) =  0.999988749983514*exp(1.49999325006502*t) + 4.00001125001648*exp(-1.5000067500514*t) V\n"
     ]
    }
   ],
   "source": [
    "# parte 1 - degrau - 0 <= t < 1\n",
    "R = 3\n",
    "L = 2\n",
    "C = 1e-6\n",
    "Vo = 5              # Vo = 5 V\n",
    "Io = -1          # Io = Il = -1A\n",
    "Is = -1          # Il(oo) = -1A\n",
    "\n",
    "alpha = 0.5/R/C\n",
    "omega = (L*C)**-.5\n",
    "print('alpha = ', alpha, 'rad/s')\n",
    "print('omega = ', omega, 'rad/s')\n",
    "\n",
    "S1 = -alpha + (alpha**2 - omega**2)**.5\n",
    "S2 = -alpha - (alpha**2 - omega**2)**.5\n",
    "print('S1 = ', S1, 'rad/s')\n",
    "print('S2 = ', S2, 'rad/s')\n",
    "\n",
    "print('Io = ', Io, 'A')\n",
    "print('Vo = ', Vo, 'V')\n",
    "\n",
    "### RESPOSTA AO DEGRAU - RLC PARALELO\n",
    "a1, a2 = symbols('a1, a2')\n",
    "eq1 = Eq(a1 + a2, Io - Is)                           \n",
    "eq2 = Eq(S1*a1 + S2*a2, Vo/L)    \n",
    "\n",
    "\n",
    "soluc = solve((eq1, eq2))\n",
    "\n",
    "for x in soluc:\n",
    "    print(x, soluc[x])\n",
    "a1, a2 = [soluc[x] for x in soluc]\n",
    "\n",
    "# corrente e tensão no indutor\n",
    "Il = Is + a1*E**(S1*t) + a2*E**(S2*t)\n",
    "Vl = L*diff(Il, t)\n",
    "\n",
    "print('Il(t) = ', Il, 'A')\n",
    "print('Vl(t) = ', Vl, 'V') # Vl = Vc = Vr = Vs"
   ]
  },
  {
   "cell_type": "markdown",
   "metadata": {},
   "source": [
    "## Letra D - Parte 2\n",
    "* para t >= 1"
   ]
  },
  {
   "cell_type": "code",
   "execution_count": 53,
   "metadata": {},
   "outputs": [
    {
     "name": "stdout",
     "output_type": "stream",
     "text": [
      "alpha =  416666.6666666666 rad/s\n",
      "omega =  707.1067811865476 rad/s\n",
      "S1 =  0.5999995680176653 rad/s\n",
      "S2 =  -0.6000004319939762 rad/s\n",
      "Il(1) =  5.37412552628666 A\n",
      "Vl(1) =  5.37412552684961 V\n",
      "A_1 -8210466.86729565 V\n",
      "A_2 8210472.24142118 V\n",
      "VL(t) =  -4506001.70104904*exp(0.599999568017665*t) + 14960462.2940061*exp(-0.600000431993976*t) V\n",
      "IL(t) =  -3755004.12103328*exp(0.599999568017665*t) + 13684121.2979273 - 12467042.935526*exp(-0.600000431993976*t) A\n"
     ]
    }
   ],
   "source": [
    "# t >= 1, resposta natural\n",
    "t, a1, a2 = symbols('t, A_1, A_2')\n",
    "R = 1 / (1/R1 + 1/R2) # 1.2 ohm\n",
    "L = 2\n",
    "C = 1e-6\n",
    "\n",
    "## calcula os parâmetros de depende apenas de R, L e C\n",
    "alpha = 0.5/R/C\n",
    "omega = (L*C)**-.5\n",
    "S1 = -alpha + (alpha**2 - omega**2)**.5\n",
    "S2 = -alpha - (alpha**2 - omega**2)**.5\n",
    "print('alpha = ', alpha, 'rad/s')\n",
    "print('omega = ', omega, 'rad/s')\n",
    "print('S1 = ', S1, 'rad/s')\n",
    "print('S2 = ', S2, 'rad/s')\n",
    "\n",
    "## calcula as condições inicias para t = 1\n",
    "Io = Il.subs({t: 1})\n",
    "Vo = Vl.subs({t: 1})\n",
    "print('Il(1) = ', Io, 'A')\n",
    "print('Vl(1) = ', Vo, 'V')\n",
    "\n",
    "## encontra A1 e A2\n",
    "eq1 = Eq(a1 + a2, Vo)                           \n",
    "eq2 = Eq(S1*a1 + S2*a2, 1/C*(-Vo/R - Io))    \n",
    "soluc = solve((eq1, eq2))\n",
    "for x in soluc:\n",
    "    print(x, soluc[x], 'V')\n",
    "a1, a2 = [soluc[x] for x in soluc]\n",
    "\n",
    "Vl = a1*E**(S1*(t-1)) + a2*E**(S2*(t-1))\n",
    "print(\"VL(t) = \", Vl, 'V')\n",
    "print(\"IL(t) = \", 1/L*integrate(Vl, (t, 1, t)) + Io, 'A')\n"
   ]
  },
  {
   "cell_type": "code",
   "execution_count": null,
   "metadata": {},
   "outputs": [],
   "source": []
  }
 ],
 "metadata": {
  "interpreter": {
   "hash": "c7523fd8d09c71f17f6ca6e6e337e75babedc6db0625410a20b32a0fd223770e"
  },
  "kernelspec": {
   "display_name": "Python 3",
   "language": "python",
   "name": "python3"
  },
  "language_info": {
   "codemirror_mode": {
    "name": "ipython",
    "version": 3
   },
   "file_extension": ".py",
   "mimetype": "text/x-python",
   "name": "python",
   "nbconvert_exporter": "python",
   "pygments_lexer": "ipython3",
   "version": "3.7.7"
  }
 },
 "nbformat": 4,
 "nbformat_minor": 2
}
