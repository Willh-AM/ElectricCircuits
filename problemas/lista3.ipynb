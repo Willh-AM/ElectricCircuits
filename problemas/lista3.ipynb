{
 "cells": [
  {
   "cell_type": "markdown",
   "metadata": {},
   "source": [
    "<div align='center'>\n",
    "\n",
    "# Resolução da Lista 3\n",
    "### complemento, calculos e solução das equações\n",
    "---\n",
    "<small> \n",
    "    William Henrique - 119111128 \n",
    "\n",
    "    15 de fevereiro de 2022\n",
    "</small>\n",
    "\n",
    "---\n",
    "</div>"
   ]
  },
  {
   "cell_type": "code",
   "execution_count": 2,
   "metadata": {},
   "outputs": [],
   "source": [
    "from sympy import *\n",
    "from sympy.plotting import plot\n",
    "import matplotlib.pyplot as plt\n",
    "import numpy as np"
   ]
  },
  {
   "cell_type": "code",
   "execution_count": 3,
   "metadata": {},
   "outputs": [],
   "source": [
    "# matrícula (1,2,8)\n",
    "x = 1 + 1\n",
    "y = 1 + 2\n",
    "z = 1 + 8\n",
    "\n",
    "#função para plotar gráficos\n",
    "#exp: expresão\n",
    "#r: intervalo\n",
    "#step: passo\n",
    "def myplot(exp, r=(0, 2), step = .005): \n",
    "    x = np.arange(r[0], r[1], step, dtype = np.float64)\n",
    "    y1 = x.copy()\n",
    "\n",
    "    for k, v in enumerate(x):\n",
    "        y1[k] = exp.subs({t: x[k]})\n",
    "    plt.plot(x, y1)"
   ]
  },
  {
   "cell_type": "markdown",
   "metadata": {},
   "source": [
    "# Questão 1 - Calculos e Gráficos"
   ]
  },
  {
   "cell_type": "markdown",
   "metadata": {},
   "source": [
    "## Questão 1 (A)"
   ]
  },
  {
   "cell_type": "code",
   "execution_count": 4,
   "metadata": {},
   "outputs": [],
   "source": [
    "\n",
    "# indutâncias\n",
    "L1 = 4e-3\n",
    "L2 = 1e-3\n",
    "L3 = 5e-3\n",
    "# as expresões dadas das tensões na fonte\n",
    "\n",
    "t = symbols(\"t\")\n",
    "v1 = -0.05*x*E**(-x*t)\n",
    "v2 = -0.02*y*E**(-y*t)*cos(20*t)\n",
    "v3 = +0.01*z*E**(-z*t)"
   ]
  },
  {
   "cell_type": "markdown",
   "metadata": {},
   "source": [
    "Calculando $V_{L1}(t)$ e $I_{L1}(t)$"
   ]
  },
  {
   "cell_type": "code",
   "execution_count": 5,
   "metadata": {},
   "outputs": [
    {
     "data": {
      "text/latex": [
       "$\\displaystyle 10.0 - 12.5 e^{- 2 t} + 2.5 e^{- 9 t}$"
      ],
      "text/plain": [
       "10.0 - 12.5*exp(-2*t) + 2.5*exp(-9*t)"
      ]
     },
     "execution_count": 5,
     "metadata": {},
     "output_type": "execute_result"
    }
   ],
   "source": [
    "vl1 = -v3 - v1\n",
    "il1 = 1/L1 * integrate(vl1, (t, 0, t))\n",
    "il1"
   ]
  },
  {
   "cell_type": "markdown",
   "metadata": {},
   "source": [
    "Calculando $V_{L2}(t)$ e  $I_{L2}(t)$"
   ]
  },
  {
   "cell_type": "code",
   "execution_count": 6,
   "metadata": {},
   "outputs": [
    {
     "data": {
      "text/latex": [
       "$\\displaystyle -10.440097799511 - 2.93398533007335 e^{- 3 t} \\sin{\\left(20 t \\right)} + 0.440097799511002 e^{- 3 t} \\cos{\\left(20 t \\right)} + 10.0 e^{- 9 t}$"
      ],
      "text/plain": [
       "-10.440097799511 - 2.93398533007335*exp(-3*t)*sin(20*t) + 0.440097799511002*exp(-3*t)*cos(20*t) + 10.0*exp(-9*t)"
      ]
     },
     "execution_count": 6,
     "metadata": {},
     "output_type": "execute_result"
    }
   ],
   "source": [
    "vl2 = -v3 + v2\n",
    "il2 = 1/L2 * integrate(vl2, (t, 0, t))\n",
    "il2"
   ]
  },
  {
   "cell_type": "markdown",
   "metadata": {},
   "source": [
    "Calculando $V_{L3}(t)$ e $I_{L3}(t)$"
   ]
  },
  {
   "cell_type": "code",
   "execution_count": 7,
   "metadata": {},
   "outputs": [
    {
     "data": {
      "text/latex": [
       "$\\displaystyle 10.0880195599022 - 10.0 e^{- 2 t} + 0.58679706601467 e^{- 3 t} \\sin{\\left(20 t \\right)} - 0.0880195599022005 e^{- 3 t} \\cos{\\left(20 t \\right)}$"
      ],
      "text/plain": [
       "10.0880195599022 - 10.0*exp(-2*t) + 0.58679706601467*exp(-3*t)*sin(20*t) - 0.0880195599022005*exp(-3*t)*cos(20*t)"
      ]
     },
     "execution_count": 7,
     "metadata": {},
     "output_type": "execute_result"
    }
   ],
   "source": [
    "vl3 = -v2 - v1\n",
    "il3 = 1/L3 * integrate(vl3, (t, 0, t))\n",
    "il3"
   ]
  },
  {
   "cell_type": "markdown",
   "metadata": {},
   "source": [
    "## Questão 1 (B)"
   ]
  },
  {
   "cell_type": "markdown",
   "metadata": {},
   "source": [
    "Calculando $p_{L1}(t)$"
   ]
  },
  {
   "cell_type": "code",
   "execution_count": 8,
   "metadata": {},
   "outputs": [
    {
     "data": {
      "text/latex": [
       "$\\displaystyle \\left(0.1 e^{7 t} - 0.09\\right) \\left(10.0 e^{9 t} - 12.5 e^{7 t} + 2.5\\right) e^{- 18 t}$"
      ],
      "text/plain": [
       "(0.1*exp(7*t) - 0.09)*(10.0*exp(9*t) - 12.5*exp(7*t) + 2.5)*exp(-18*t)"
      ]
     },
     "execution_count": 8,
     "metadata": {},
     "output_type": "execute_result"
    }
   ],
   "source": [
    "pl1 = vl1 * il1\n",
    "pl1.simplify()"
   ]
  },
  {
   "cell_type": "markdown",
   "metadata": {},
   "source": [
    "Calculando $p_{L2}(t)$"
   ]
  },
  {
   "cell_type": "code",
   "execution_count": 9,
   "metadata": {},
   "outputs": [
    {
     "data": {
      "text/latex": [
       "$\\displaystyle \\left(0.06 e^{6 t} \\cos{\\left(20 t \\right)} + 0.09\\right) \\left(\\left(2.93398533007335 \\sin{\\left(20 t \\right)} - 0.440097799511002 \\cos{\\left(20 t \\right)}\\right) e^{6 t} + 10.440097799511 e^{9 t} - 10.0\\right) e^{- 18 t}$"
      ],
      "text/plain": [
       "(0.06*exp(6*t)*cos(20*t) + 0.09)*((2.93398533007335*sin(20*t) - 0.440097799511002*cos(20*t))*exp(6*t) + 10.440097799511*exp(9*t) - 10.0)*exp(-18*t)"
      ]
     },
     "execution_count": 9,
     "metadata": {},
     "output_type": "execute_result"
    }
   ],
   "source": [
    "pl2 = vl2 * il2\n",
    "pl2.simplify()"
   ]
  },
  {
   "cell_type": "markdown",
   "metadata": {},
   "source": [
    "Calculando $p_{L3}(t)$"
   ]
  },
  {
   "cell_type": "code",
   "execution_count": 13,
   "metadata": {},
   "outputs": [
    {
     "data": {
      "text/latex": [
       "$\\displaystyle \\left(0.1 e^{- 2 t} + 0.06 e^{- 3 t} \\cos{\\left(20 t \\right)}\\right) \\left(10.0880195599022 - 10.0 e^{- 2 t} + 0.58679706601467 e^{- 3 t} \\sin{\\left(20 t \\right)} - 0.0880195599022005 e^{- 3 t} \\cos{\\left(20 t \\right)}\\right)$"
      ],
      "text/plain": [
       "(0.1*exp(-2*t) + 0.06*exp(-3*t)*cos(20*t))*(10.0880195599022 - 10.0*exp(-2*t) + 0.58679706601467*exp(-3*t)*sin(20*t) - 0.0880195599022005*exp(-3*t)*cos(20*t))"
      ]
     },
     "execution_count": 13,
     "metadata": {},
     "output_type": "execute_result"
    }
   ],
   "source": [
    "pl3 = vl3 * il3\n",
    "pl3"
   ]
  },
  {
   "cell_type": "markdown",
   "metadata": {},
   "source": [
    "## Questão 1 (C)\n",
    "\n",
    "Analisando os gráficos de potência"
   ]
  },
  {
   "cell_type": "code",
   "execution_count": 14,
   "metadata": {},
   "outputs": [
    {
     "data": {
      "text/plain": [
       "<matplotlib.legend.Legend at 0x18e8d3e2340>"
      ]
     },
     "execution_count": 14,
     "metadata": {},
     "output_type": "execute_result"
    },
    {
     "data": {
      "image/png": "[encoded data removed]",
      "text/plain": [
       "<Figure size 432x288 with 1 Axes>"
      ]
     },
     "metadata": {
      "needs_background": "light"
     },
     "output_type": "display_data"
    }
   ],
   "source": [
    "passo = 0.005\n",
    "x = np.arange(0, 5, passo,  dtype = np.float64)\n",
    "y1 = x.copy()\n",
    "y2 = y1.copy()\n",
    "y3 = y1.copy()\n",
    "\n",
    "for k, v in enumerate(x):\n",
    "    y1[k] = pl1.subs({t: x[k]})\n",
    "    y2[k] = pl2.subs({t: x[k]})\n",
    "    y3[k] = pl3.subs({t: x[k]})\n",
    "\n",
    "plt.plot(x, y1, x, y2, x, y3)\n",
    "plt.legend((\"$p_{l1}(t)$\", \"$p_{l2}(t)$\", \"$p_{l3}(t)$\"))"
   ]
  },
  {
   "cell_type": "markdown",
   "metadata": {},
   "source": [
    "Pelo gráfico das potências nos indutores para $t>=0$, é possivel perceber que $p_{l2}(t)$ possui o maior pico de potência"
   ]
  },
  {
   "cell_type": "code",
   "execution_count": 15,
   "metadata": {},
   "outputs": [
    {
     "name": "stdout",
     "output_type": "stream",
     "text": [
      "raiz encontrada em t = 0.0461833530502532 s é um ponto de\n",
      "máximo valor: 0.513314894192184 W\n"
     ]
    },
    {
     "data": {
      "text/plain": [
       "[<matplotlib.lines.Line2D at 0x18e92dd8d00>,\n",
       " <matplotlib.lines.Line2D at 0x18e92e5b3d0>,\n",
       " <matplotlib.lines.Line2D at 0x18e92e5b100>,\n",
       " <matplotlib.lines.Line2D at 0x18e92e5b190>]"
      ]
     },
     "execution_count": 15,
     "metadata": {},
     "output_type": "execute_result"
    },
    {
     "data": {
      "image/png": "[encoded data removed]",
      "text/plain": [
       "<Figure size 432x288 with 1 Axes>"
      ]
     },
     "metadata": {
      "needs_background": "light"
     },
     "output_type": "display_data"
    }
   ],
   "source": [
    "dpl2 = diff(pl2, t)\n",
    "root = nsolve(dpl2, t, (0, .1), solve=\"bisect\")\n",
    "print(f\"raiz encontrada em t = {root} s é um ponto de\")\n",
    "valor = pl2.subs({t:root})\n",
    "if (valor > 0):\n",
    "    print(f\"máximo valor: {valor} W\")\n",
    "plt.plot(x, y1, x, y2, x, y3, root, pl2.subs({t: root}), 'or')"
   ]
  },
  {
   "cell_type": "markdown",
   "metadata": {},
   "source": [
    "## Questão 1 (D)\n",
    "\n",
    "$w(t) = \\frac{L}{2}i(t)^2$"
   ]
  },
  {
   "cell_type": "markdown",
   "metadata": {},
   "source": [
    "$W_{l1}(t = oo)$"
   ]
  },
  {
   "cell_type": "code",
   "execution_count": 201,
   "metadata": {},
   "outputs": [],
   "source": [
    "# energia acumulada em t = +oo\n",
    "wl1 = 1/2 * L1 * il1**2\n",
    "wl1 = limit(wl1, t, oo)\n",
    "wl1"
   ]
  },
  {
   "cell_type": "markdown",
   "metadata": {},
   "source": [
    "$W_{l2}(t = oo)$"
   ]
  },
  {
   "cell_type": "code",
   "execution_count": 200,
   "metadata": {},
   "outputs": [],
   "source": [
    "wl2 = 1/2 * L2 * il2**2\n",
    "wl2 = limit(wl2, t, oo)\n",
    "wl2"
   ]
  },
  {
   "cell_type": "markdown",
   "metadata": {},
   "source": [
    "$W_{l3}(t = oo)$"
   ]
  },
  {
   "cell_type": "code",
   "execution_count": 199,
   "metadata": {},
   "outputs": [],
   "source": [
    "wl3 = 1/2 * L3 * il3**2\n",
    "wl3 = limit(wl3, t, oo)\n",
    "wl3"
   ]
  },
  {
   "cell_type": "code",
   "execution_count": 202,
   "metadata": {},
   "outputs": [
    {
     "data": {
      "text/latex": [
       "$\\displaystyle 0.508918167634101$"
      ],
      "text/plain": [
       "0.508918167634101"
      ]
     },
     "execution_count": 202,
     "metadata": {},
     "output_type": "execute_result"
    }
   ],
   "source": [
    "wl1 + wl2 + wl3"
   ]
  },
  {
   "cell_type": "markdown",
   "metadata": {},
   "source": [
    "# Questão 2 - Calculos e Gráficos"
   ]
  },
  {
   "cell_type": "code",
   "execution_count": 4,
   "metadata": {},
   "outputs": [],
   "source": [
    "t = symbols(\"t\")"
   ]
  },
  {
   "cell_type": "markdown",
   "metadata": {},
   "source": [
    "## Questão 2 (A)"
   ]
  },
  {
   "cell_type": "code",
   "execution_count": 5,
   "metadata": {},
   "outputs": [],
   "source": [
    "i = 500*E**(-z*t)*cos(20*t)*1e-3      # milli Ampere -> em Ampere\n",
    "v1 = -2*E**(-y*t)                     # V\n",
    "v2 = 5*t*E**(-x*t)                    # V\n",
    "C = 500e-6   # C\n",
    "L = 100e-3   # H"
   ]
  },
  {
   "cell_type": "markdown",
   "metadata": {},
   "source": [
    "$v_L(t) = v_1(t) + v_2(t)$"
   ]
  },
  {
   "cell_type": "code",
   "execution_count": 6,
   "metadata": {},
   "outputs": [
    {
     "data": {
      "text/latex": [
       "$\\displaystyle 5 t e^{- 2 t} - 2 e^{- 3 t}$"
      ],
      "text/plain": [
       "5*t*exp(-2*t) - 2*exp(-3*t)"
      ]
     },
     "execution_count": 6,
     "metadata": {},
     "output_type": "execute_result"
    }
   ],
   "source": [
    "vl = v1 + v2\n",
    "vl"
   ]
  },
  {
   "cell_type": "markdown",
   "metadata": {},
   "source": [
    "$v_C(t) = C\\int_{t_0}^{t}{i(\\tau)d\\tau} + v_o(t_0)$"
   ]
  },
  {
   "cell_type": "code",
   "execution_count": 7,
   "metadata": {},
   "outputs": [
    {
     "data": {
      "text/latex": [
       "$\\displaystyle 16.7110187110187 + 41.5800415800416 e^{- 9 t} \\sin{\\left(20 t \\right)} - 18.7110187110187 e^{- 9 t} \\cos{\\left(20 t \\right)}$"
      ],
      "text/plain": [
       "16.7110187110187 + 41.5800415800416*exp(-9*t)*sin(20*t) - 18.7110187110187*exp(-9*t)*cos(20*t)"
      ]
     },
     "execution_count": 7,
     "metadata": {},
     "output_type": "execute_result"
    }
   ],
   "source": [
    "#        v(t)                    + v(0)          \n",
    "vc = 1/C * integrate(i, (t, 0, t)) + (-x)\n",
    "vc"
   ]
  },
  {
   "cell_type": "markdown",
   "metadata": {},
   "source": [
    "## Questão 2 (B)"
   ]
  },
  {
   "cell_type": "markdown",
   "metadata": {},
   "source": [
    "Aplicando L.K.T. na malha I (malha da esquerda)"
   ]
  },
  {
   "cell_type": "code",
   "execution_count": 8,
   "metadata": {},
   "outputs": [
    {
     "data": {
      "text/latex": [
       "$\\displaystyle 5 t e^{- 2 t} - 16.7110187110187 - 4 e^{- 3 t} - 41.5800415800416 e^{- 9 t} \\sin{\\left(20 t \\right)} + 18.7110187110187 e^{- 9 t} \\cos{\\left(20 t \\right)}$"
      ],
      "text/plain": [
       "5*t*exp(-2*t) - 16.7110187110187 - 4*exp(-3*t) - 41.5800415800416*exp(-9*t)*sin(20*t) + 18.7110187110187*exp(-9*t)*cos(20*t)"
      ]
     },
     "execution_count": 8,
     "metadata": {},
     "output_type": "execute_result"
    }
   ],
   "source": [
    "vi = vl + v1 - vc\n",
    "vi"
   ]
  },
  {
   "cell_type": "markdown",
   "metadata": {},
   "source": [
    "Logo, a potência na fonte de corrente"
   ]
  },
  {
   "cell_type": "code",
   "execution_count": 9,
   "metadata": {},
   "outputs": [
    {
     "data": {
      "text/latex": [
       "$\\displaystyle 0.5 \\left(- 5 t e^{- 2 t} + 16.7110187110187 + 4 e^{- 3 t} + 41.5800415800416 e^{- 9 t} \\sin{\\left(20 t \\right)} - 18.7110187110187 e^{- 9 t} \\cos{\\left(20 t \\right)}\\right) e^{- 9 t} \\cos{\\left(20 t \\right)}$"
      ],
      "text/plain": [
       "0.5*(-5*t*exp(-2*t) + 16.7110187110187 + 4*exp(-3*t) + 41.5800415800416*exp(-9*t)*sin(20*t) - 18.7110187110187*exp(-9*t)*cos(20*t))*exp(-9*t)*cos(20*t)"
      ]
     },
     "execution_count": 9,
     "metadata": {},
     "output_type": "execute_result"
    }
   ],
   "source": [
    "pi = -vi * i\n",
    "pi"
   ]
  },
  {
   "cell_type": "code",
   "execution_count": 27,
   "metadata": {},
   "outputs": [
    {
     "data": {
      "image/png": "[encoded data removed]",
      "text/plain": [
       "<Figure size 432x288 with 1 Axes>"
      ]
     },
     "metadata": {
      "needs_background": "light"
     },
     "output_type": "display_data"
    }
   ],
   "source": [
    "myplot(pi)"
   ]
  },
  {
   "cell_type": "markdown",
   "metadata": {},
   "source": [
    "## Questão 2 (C)"
   ]
  },
  {
   "cell_type": "markdown",
   "metadata": {},
   "source": [
    "Calculando $I_L(t)$"
   ]
  },
  {
   "cell_type": "code",
   "execution_count": 11,
   "metadata": {},
   "outputs": [
    {
     "data": {
      "text/latex": [
       "$\\displaystyle 0.833333333333333 \\left(- 30 t - 15\\right) e^{- 2 t} + 6.13333333333333 + 6.66666666666667 e^{- 3 t}$"
      ],
      "text/plain": [
       "0.833333333333333*(-30*t - 15)*exp(-2*t) + 6.13333333333333 + 6.66666666666667*exp(-3*t)"
      ]
     },
     "execution_count": 11,
     "metadata": {},
     "output_type": "execute_result"
    }
   ],
   "source": [
    "il = 1/L * integrate(vl, (t, 0, t)) + 0.1*y\n",
    "il"
   ]
  },
  {
   "cell_type": "code",
   "execution_count": 31,
   "metadata": {},
   "outputs": [
    {
     "data": {
      "text/latex": [
       "$\\displaystyle 6.13333333333333$"
      ],
      "text/plain": [
       "6.13333333333333"
      ]
     },
     "execution_count": 31,
     "metadata": {},
     "output_type": "execute_result"
    }
   ],
   "source": [
    "limit(il, t, oo) # il(t = oo)"
   ]
  },
  {
   "cell_type": "markdown",
   "metadata": {},
   "source": [
    "$p_{v1}(t) = -v_1(t)*i_L(t)$"
   ]
  },
  {
   "cell_type": "code",
   "execution_count": 12,
   "metadata": {},
   "outputs": [
    {
     "data": {
      "text/latex": [
       "$\\displaystyle 2 \\left(0.833333333333333 \\left(- 30 t - 15\\right) e^{- 2 t} + 6.13333333333333 + 6.66666666666667 e^{- 3 t}\\right) e^{- 3 t}$"
      ],
      "text/plain": [
       "2*(0.833333333333333*(-30*t - 15)*exp(-2*t) + 6.13333333333333 + 6.66666666666667*exp(-3*t))*exp(-3*t)"
      ]
     },
     "execution_count": 12,
     "metadata": {},
     "output_type": "execute_result"
    }
   ],
   "source": [
    "pv1 = - v1 * il\n",
    "pv1"
   ]
  },
  {
   "cell_type": "markdown",
   "metadata": {},
   "source": [
    "$p_{v2}(t) = -v_2(t)[i_L(t) + i_C(t)]$ tal que $i_C(t) = i(t)$"
   ]
  },
  {
   "cell_type": "code",
   "execution_count": 13,
   "metadata": {},
   "outputs": [
    {
     "data": {
      "text/latex": [
       "$\\displaystyle - 5 t \\left(0.833333333333333 \\left(- 30 t - 15\\right) e^{- 2 t} + 6.13333333333333 + 6.66666666666667 e^{- 3 t} + 0.5 e^{- 9 t} \\cos{\\left(20 t \\right)}\\right) e^{- 2 t}$"
      ],
      "text/plain": [
       "-5*t*(0.833333333333333*(-30*t - 15)*exp(-2*t) + 6.13333333333333 + 6.66666666666667*exp(-3*t) + 0.5*exp(-9*t)*cos(20*t))*exp(-2*t)"
      ]
     },
     "execution_count": 13,
     "metadata": {},
     "output_type": "execute_result"
    }
   ],
   "source": [
    "pv2 = -v2 * (il + i)\n",
    "pv2"
   ]
  },
  {
   "cell_type": "markdown",
   "metadata": {},
   "source": [
    "A potência desenvolvida pelas fontes de tensão é $p_V = p_{v1} + p_{v2}$"
   ]
  },
  {
   "cell_type": "code",
   "execution_count": 14,
   "metadata": {},
   "outputs": [
    {
     "data": {
      "text/latex": [
       "$\\displaystyle - 5 t \\left(0.833333333333333 \\left(- 30 t - 15\\right) e^{- 2 t} + 6.13333333333333 + 6.66666666666667 e^{- 3 t} + 0.5 e^{- 9 t} \\cos{\\left(20 t \\right)}\\right) e^{- 2 t} + 2 \\left(0.833333333333333 \\left(- 30 t - 15\\right) e^{- 2 t} + 6.13333333333333 + 6.66666666666667 e^{- 3 t}\\right) e^{- 3 t}$"
      ],
      "text/plain": [
       "-5*t*(0.833333333333333*(-30*t - 15)*exp(-2*t) + 6.13333333333333 + 6.66666666666667*exp(-3*t) + 0.5*exp(-9*t)*cos(20*t))*exp(-2*t) + 2*(0.833333333333333*(-30*t - 15)*exp(-2*t) + 6.13333333333333 + 6.66666666666667*exp(-3*t))*exp(-3*t)"
      ]
     },
     "execution_count": 14,
     "metadata": {},
     "output_type": "execute_result"
    }
   ],
   "source": [
    "pv = pv1 + pv2\n",
    "pv"
   ]
  },
  {
   "cell_type": "markdown",
   "metadata": {},
   "source": [
    "## Questão 2 (D)\n",
    "\n",
    "A carga total desenvolvida pelo capacitor em t = oo\n",
    "\n",
    "v_C(t = oo) -> 16,71 V"
   ]
  },
  {
   "cell_type": "code",
   "execution_count": 18,
   "metadata": {},
   "outputs": [
    {
     "name": "stdout",
     "output_type": "stream",
     "text": [
      " carga = 0.00835550935550936 C = 8.35550935550936 milliC\n"
     ]
    }
   ],
   "source": [
    "carga = limit(vc, t, oo)*C\n",
    "print(f\" carga = {carga} C = {carga*1e3} milliC\") "
   ]
  },
  {
   "cell_type": "markdown",
   "metadata": {},
   "source": [
    "Questão 2 (E)\n",
    "\n",
    "A energia acumulada em t = oo pelo capacitor e pelo indutor"
   ]
  },
  {
   "cell_type": "code",
   "execution_count": 24,
   "metadata": {},
   "outputs": [],
   "source": [
    "wl = 1/2 * L * il**2    #energia no indutor\n",
    "wc = 1/2 * C * vc**2     #energia no capacitor"
   ]
  },
  {
   "cell_type": "code",
   "execution_count": 25,
   "metadata": {},
   "outputs": [
    {
     "name": "stdout",
     "output_type": "stream",
     "text": [
      "wc = 1.88088888888889 J\n"
     ]
    }
   ],
   "source": [
    "wl = limit(wl, t, oo) # energia armazena em t = oo pelo indutor\n",
    "print(f\"wc = {wl} J\")\n"
   ]
  },
  {
   "cell_type": "code",
   "execution_count": 26,
   "metadata": {},
   "outputs": [
    {
     "name": "stdout",
     "output_type": "stream",
     "text": [
      "wc = 0.0698145365900044 J\n"
     ]
    }
   ],
   "source": [
    "wc = limit(wc, t, oo) # energia armazenada em t = oo pelo capacitor\n",
    "print(f\"wc = {wc} J\")"
   ]
  },
  {
   "cell_type": "code",
   "execution_count": 27,
   "metadata": {},
   "outputs": [
    {
     "name": "stdout",
     "output_type": "stream",
     "text": [
      "wc + wl = 1.95070342547889 J\n"
     ]
    }
   ],
   "source": [
    "# energia total armazena pelo indutor e pelo capacitor\n",
    "print(f\"wc + wl = {wc + wl} J\")"
   ]
  },
  {
   "cell_type": "markdown",
   "metadata": {},
   "source": [
    "## Questão 2 (F)"
   ]
  },
  {
   "cell_type": "code",
   "execution_count": 28,
   "metadata": {},
   "outputs": [
    {
     "data": {
      "image/png": "[encoded data removed]",
      "text/plain": [
       "<Figure size 432x288 with 1 Axes>"
      ]
     },
     "metadata": {
      "needs_background": "light"
     },
     "output_type": "display_data"
    }
   ],
   "source": [
    "myplot(vc, r=(0, 10))"
   ]
  },
  {
   "cell_type": "code",
   "execution_count": 29,
   "metadata": {},
   "outputs": [
    {
     "data": {
      "image/png": "[encoded data removed]",
      "text/plain": [
       "<Figure size 432x288 with 1 Axes>"
      ]
     },
     "metadata": {
      "needs_background": "light"
     },
     "output_type": "display_data"
    }
   ],
   "source": [
    "myplot(vi, r=(0, 10))"
   ]
  },
  {
   "cell_type": "code",
   "execution_count": 30,
   "metadata": {},
   "outputs": [
    {
     "data": {
      "image/png": "[encoded data removed]",
      "text/plain": [
       "<Figure size 432x288 with 1 Axes>"
      ]
     },
     "metadata": {
      "needs_background": "light"
     },
     "output_type": "display_data"
    }
   ],
   "source": [
    "myplot(vl, r=(0, 10))\n"
   ]
  }
 ],
 "metadata": {
  "interpreter": {
   "hash": "f8bbe703e4409461e5c1796f0c401e26e62f32801f1a5b19455b89c31c613fbe"
  },
  "kernelspec": {
   "display_name": "Python 3.8.8 ('base')",
   "language": "python",
   "name": "python3"
  },
  "language_info": {
   "codemirror_mode": {
    "name": "ipython",
    "version": 3
   },
   "file_extension": ".py",
   "mimetype": "text/x-python",
   "name": "python",
   "nbconvert_exporter": "python",
   "pygments_lexer": "ipython3",
   "version": "3.8.8"
  },
  "orig_nbformat": 4
 },
 "nbformat": 4,
 "nbformat_minor": 2
}
